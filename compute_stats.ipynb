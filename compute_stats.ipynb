{
 "cells": [
  {
   "attachments": {},
   "cell_type": "markdown",
   "metadata": {},
   "source": [
    "# Stats computation\n",
    "\n",
    "This notebook computes some statistics to help estimate the probability of a name occuring.\n"
   ]
  },
  {
   "cell_type": "code",
   "execution_count": 1,
   "metadata": {},
   "outputs": [],
   "source": [
    "import json\n",
    "import math\n",
    "\n",
    "import pandas as pd\n",
    "from tqdm.notebook import trange\n",
    "\n",
    "from marvolo import atomize, join_groups"
   ]
  },
  {
   "cell_type": "code",
   "execution_count": 2,
   "metadata": {},
   "outputs": [
    {
     "data": {
      "text/html": [
       "<div>\n",
       "<style scoped>\n",
       "    .dataframe tbody tr th:only-of-type {\n",
       "        vertical-align: middle;\n",
       "    }\n",
       "\n",
       "    .dataframe tbody tr th {\n",
       "        vertical-align: top;\n",
       "    }\n",
       "\n",
       "    .dataframe thead th {\n",
       "        text-align: right;\n",
       "    }\n",
       "</style>\n",
       "<table border=\"1\" class=\"dataframe\">\n",
       "  <thead>\n",
       "    <tr style=\"text-align: right;\">\n",
       "      <th></th>\n",
       "      <th>Nawisko aktualne</th>\n",
       "      <th>Liczba</th>\n",
       "    </tr>\n",
       "  </thead>\n",
       "  <tbody>\n",
       "    <tr>\n",
       "      <th>0</th>\n",
       "      <td>NOWAK</td>\n",
       "      <td>146263</td>\n",
       "    </tr>\n",
       "    <tr>\n",
       "      <th>1</th>\n",
       "      <td>KOWALSKI</td>\n",
       "      <td>94540</td>\n",
       "    </tr>\n",
       "    <tr>\n",
       "      <th>2</th>\n",
       "      <td>WIŚNIEWSKI</td>\n",
       "      <td>74268</td>\n",
       "    </tr>\n",
       "    <tr>\n",
       "      <th>3</th>\n",
       "      <td>WÓJCIK</td>\n",
       "      <td>67268</td>\n",
       "    </tr>\n",
       "    <tr>\n",
       "      <th>4</th>\n",
       "      <td>KOWALCZYK</td>\n",
       "      <td>66159</td>\n",
       "    </tr>\n",
       "    <tr>\n",
       "      <th>...</th>\n",
       "      <td>...</td>\n",
       "      <td>...</td>\n",
       "    </tr>\n",
       "    <tr>\n",
       "      <th>382090</th>\n",
       "      <td>ŻYWUSZCZAK</td>\n",
       "      <td>2</td>\n",
       "    </tr>\n",
       "    <tr>\n",
       "      <th>382091</th>\n",
       "      <td>ŻYWUTSKI</td>\n",
       "      <td>2</td>\n",
       "    </tr>\n",
       "    <tr>\n",
       "      <th>382092</th>\n",
       "      <td>ŻYŻELEWSKI</td>\n",
       "      <td>2</td>\n",
       "    </tr>\n",
       "    <tr>\n",
       "      <th>382093</th>\n",
       "      <td>ŻYŻKOWSKI</td>\n",
       "      <td>2</td>\n",
       "    </tr>\n",
       "    <tr>\n",
       "      <th>382094</th>\n",
       "      <td>ŻYŻYLEWSKI</td>\n",
       "      <td>2</td>\n",
       "    </tr>\n",
       "  </tbody>\n",
       "</table>\n",
       "<p>382094 rows × 2 columns</p>\n",
       "</div>"
      ],
      "text/plain": [
       "       Nawisko aktualne  Liczba\n",
       "0                 NOWAK  146263\n",
       "1              KOWALSKI   94540\n",
       "2            WIŚNIEWSKI   74268\n",
       "3                WÓJCIK   67268\n",
       "4             KOWALCZYK   66159\n",
       "...                 ...     ...\n",
       "382090       ŻYWUSZCZAK       2\n",
       "382091         ŻYWUTSKI       2\n",
       "382092       ŻYŻELEWSKI       2\n",
       "382093        ŻYŻKOWSKI       2\n",
       "382094       ŻYŻYLEWSKI       2\n",
       "\n",
       "[382094 rows x 2 columns]"
      ]
     },
     "execution_count": 2,
     "metadata": {},
     "output_type": "execute_result"
    }
   ],
   "source": [
    "csv_name = \"surnames-male\"\n",
    "names_df = pd.read_csv(f\"{csv_name}.csv\").dropna()\n",
    "names_df\n"
   ]
  },
  {
   "cell_type": "code",
   "execution_count": 3,
   "metadata": {},
   "outputs": [
    {
     "data": {
      "text/plain": [
       "0.2639712195759763"
      ]
     },
     "execution_count": 3,
     "metadata": {},
     "output_type": "execute_result"
    }
   ],
   "source": [
    "names = names_df[\"Nawisko aktualne\"]\n",
    "name_counts = names_df[\"Liczba\"]\n",
    "name_counts[names.str.endswith(\"SKI\")].sum() / name_counts.sum()\n"
   ]
  },
  {
   "attachments": {},
   "cell_type": "markdown",
   "metadata": {},
   "source": [
    "## Byte pair encoding\n",
    "\n",
    "To efficiently find popular groups of characters, we use byte pair encoding on the names.\n"
   ]
  },
  {
   "cell_type": "code",
   "execution_count": 4,
   "metadata": {},
   "outputs": [
    {
     "data": {
      "text/plain": [
       "['^K', 'KO', 'OW', 'WA', 'AL', 'LS', 'SK', 'KI', 'I$']"
      ]
     },
     "execution_count": 4,
     "metadata": {},
     "output_type": "execute_result"
    }
   ],
   "source": [
    "def iterate_group_pairs(grouped_name):\n",
    "    for first_group, second_group in zip(grouped_name[:-1], grouped_name[1:]):\n",
    "        yield first_group + second_group\n",
    "\n",
    "\n",
    "list(iterate_group_pairs(atomize(\"KOWALSKI\")))\n"
   ]
  },
  {
   "cell_type": "code",
   "execution_count": 5,
   "metadata": {},
   "outputs": [
    {
     "data": {
      "application/vnd.jupyter.widget-view+json": {
       "model_id": "85e0033428bc478b958aac65a1242e69",
       "version_major": 2,
       "version_minor": 0
      },
      "text/plain": [
       "  0%|          | 0/100 [00:00<?, ?it/s]"
      ]
     },
     "metadata": {},
     "output_type": "display_data"
    },
    {
     "data": {
      "text/plain": [
       "['KI', 'KI$', 'SKI$', 'K$', 'CZ', 'OW', '^K', 'A$', '^S', 'OWSKI$']"
      ]
     },
     "execution_count": 5,
     "metadata": {},
     "output_type": "execute_result"
    }
   ],
   "source": [
    "def popularities(grouped_names, name_counts, name_to_iterable):\n",
    "    result = {}\n",
    "    for grouped_name, count in zip(grouped_names, name_counts):\n",
    "        for occurence in name_to_iterable(grouped_name):\n",
    "            if occurence not in result:\n",
    "                result[occurence] = 0\n",
    "            result[occurence] += count\n",
    "    return result\n",
    "\n",
    "\n",
    "popular_groups = []\n",
    "grouped_names = [atomize(name) for name in names]\n",
    "for i in trange(100):\n",
    "    group_pair_popularities = popularities(\n",
    "        grouped_names,\n",
    "        name_counts=name_counts,\n",
    "        name_to_iterable=iterate_group_pairs,\n",
    "    )\n",
    "    most_popular_group_pair = max(\n",
    "        group_pair_popularities.items(),\n",
    "        key=lambda key_value: key_value[1],\n",
    "    )[0]\n",
    "    grouped_names = [\n",
    "        join_groups(grouped_name, most_popular_group_pair)\n",
    "        for grouped_name in grouped_names\n",
    "    ]\n",
    "    popular_groups.append(most_popular_group_pair)\n",
    "\n",
    "popular_groups[:10]\n"
   ]
  },
  {
   "attachments": {},
   "cell_type": "markdown",
   "metadata": {},
   "source": [
    "## Probability computation\n",
    "\n",
    "To be able to compute the probability of a name later, we need to compute a few probability distributions.\n"
   ]
  },
  {
   "cell_type": "code",
   "execution_count": 6,
   "metadata": {},
   "outputs": [
    {
     "data": {
      "text/plain": [
       "-3.791530765328309"
      ]
     },
     "execution_count": 6,
     "metadata": {},
     "output_type": "execute_result"
    }
   ],
   "source": [
    "def log_probabilities(popularities):\n",
    "    total_popularity = sum(popularities.values())\n",
    "    return {\n",
    "        key: math.log(popularity) - math.log(total_popularity)\n",
    "        for key, popularity in popularities.items()\n",
    "    }\n",
    "\n",
    "\n",
    "log_group_probabilities = log_probabilities(\n",
    "    popularities(\n",
    "        grouped_names=grouped_names,\n",
    "        name_counts=name_counts,\n",
    "        name_to_iterable=lambda name: name,\n",
    "    )\n",
    ")\n",
    "log_group_probabilities[\"^\"]\n"
   ]
  },
  {
   "cell_type": "code",
   "execution_count": 7,
   "metadata": {},
   "outputs": [
    {
     "data": {
      "text/plain": [
       "-8.071827249576565"
      ]
     },
     "execution_count": 7,
     "metadata": {},
     "output_type": "execute_result"
    }
   ],
   "source": [
    "log_pair_probabilities = log_probabilities(\n",
    "    popularities(\n",
    "        grouped_names,\n",
    "        name_counts=name_counts,\n",
    "        name_to_iterable=iterate_group_pairs,\n",
    "    ),\n",
    ")\n",
    "log_pair_probabilities[\"CHA\"]\n"
   ]
  },
  {
   "cell_type": "code",
   "execution_count": 8,
   "metadata": {},
   "outputs": [
    {
     "data": {
      "text/plain": [
       "-4.0135490143022245"
      ]
     },
     "execution_count": 8,
     "metadata": {},
     "output_type": "execute_result"
    }
   ],
   "source": [
    "log_length_probabilities = log_probabilities(\n",
    "    popularities(\n",
    "        grouped_names=grouped_names,\n",
    "        name_counts=name_counts,\n",
    "        name_to_iterable=lambda grouped_name: [len(grouped_name)],\n",
    "    )\n",
    ")\n",
    "log_length_probabilities[8]\n"
   ]
  },
  {
   "attachments": {},
   "cell_type": "markdown",
   "metadata": {},
   "source": [
    "## Saving the stats\n"
   ]
  },
  {
   "cell_type": "code",
   "execution_count": 9,
   "metadata": {},
   "outputs": [],
   "source": [
    "with open(f\"stats/{csv_name}.json\", \"w\") as file:\n",
    "    json.dump(\n",
    "        {\n",
    "            \"popular_groups\": popular_groups,\n",
    "            \"log_group_probabilities\": log_group_probabilities,\n",
    "            \"log_pair_probabilities\": log_pair_probabilities,\n",
    "            \"log_length_probabilities\": log_length_probabilities,\n",
    "        },\n",
    "        file,\n",
    "        indent=4,\n",
    "    )\n"
   ]
  }
 ],
 "metadata": {
  "kernelspec": {
   "display_name": ".venv",
   "language": "python",
   "name": "python3"
  },
  "language_info": {
   "codemirror_mode": {
    "name": "ipython",
    "version": 3
   },
   "file_extension": ".py",
   "mimetype": "text/x-python",
   "name": "python",
   "nbconvert_exporter": "python",
   "pygments_lexer": "ipython3",
   "version": "3.10.9"
  }
 },
 "nbformat": 4,
 "nbformat_minor": 2
}
