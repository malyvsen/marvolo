{
 "cells": [
  {
   "attachments": {},
   "cell_type": "markdown",
   "metadata": {},
   "source": [
    "# Anagram maker\n",
    "This notebook is a testing ground for trying out different ways to make a good-sounding anagram using the stats computed in `compute_stats.ipynb`."
   ]
  },
  {
   "cell_type": "code",
   "execution_count": null,
   "metadata": {},
   "outputs": [],
   "source": [
    "import json\n",
    "import random\n",
    "\n",
    "from marvolo import atomize, join_groups"
   ]
  },
  {
   "cell_type": "code",
   "execution_count": null,
   "metadata": {},
   "outputs": [],
   "source": [
    "with open(\"stats/names-female.json\", \"r\") as file:\n",
    "    stats = json.load(file)\n",
    "stats.keys()"
   ]
  },
  {
   "cell_type": "code",
   "execution_count": null,
   "metadata": {},
   "outputs": [],
   "source": [
    "def log_name_probability(name):\n",
    "    grouped_name = atomize(name)\n",
    "    for popular_group in stats[\"popular_groups\"]:\n",
    "        grouped_name = join_groups(grouped_name, popular_group)\n",
    "    try:\n",
    "        return (\n",
    "            stats[\"log_group_probabilities\"][grouped_name[0]]\n",
    "            + sum(\n",
    "                stats[\"log_pair_probabilities\"][first_group + second_group] - stats[\"log_group_probabilities\"][first_group]\n",
    "                for first_group, second_group in zip(grouped_name[:-1], grouped_name[1:])\n",
    "            )\n",
    "            + stats[\"log_length_probabilities\"][str(len(grouped_name))]\n",
    "        )\n",
    "    except KeyError as e:\n",
    "        return -float(\"inf\")\n",
    "\n",
    "log_name_probability(\"KOWALSKI\")"
   ]
  },
  {
   "cell_type": "code",
   "execution_count": null,
   "metadata": {},
   "outputs": [],
   "source": [
    "def random_swap(text: str):\n",
    "    indices = [random.randrange(len(text)) for _ in range(2)]\n",
    "    low_idx = min(indices)\n",
    "    high_idx = max(indices)\n",
    "    if low_idx == high_idx:\n",
    "        return text\n",
    "    return text[:low_idx] + text[high_idx] + text[low_idx + 1:high_idx] + text[low_idx] + text[high_idx + 1:]\n",
    "\n",
    "random_swap(\"KOWALSKI\")"
   ]
  },
  {
   "cell_type": "code",
   "execution_count": null,
   "metadata": {},
   "outputs": [],
   "source": [
    "def shuffle(text: str):\n",
    "    result = list(text)\n",
    "    random.shuffle(result)\n",
    "    return \"\".join(result)\n",
    "\n",
    "shuffle(\"KOWALSKI\")"
   ]
  },
  {
   "cell_type": "code",
   "execution_count": null,
   "metadata": {},
   "outputs": [],
   "source": [
    "def suggest_swap(text: str, num_tries=100):\n",
    "    return max(\n",
    "        (random_swap(text) for _ in range(num_tries)),\n",
    "        key=log_name_probability,\n",
    "    )\n",
    "\n",
    "suggest_swap(\"KOWLASKI\")"
   ]
  },
  {
   "cell_type": "code",
   "execution_count": null,
   "metadata": {},
   "outputs": [],
   "source": [
    "def suggest_anagram(name: str, num_iterations=100):\n",
    "    anagram = shuffle(name)\n",
    "    for _ in range(num_iterations):\n",
    "        anagram = suggest_swap(anagram)\n",
    "    return anagram\n",
    "\n",
    "suggest_anagram(\"KOWALSKI\")"
   ]
  }
 ],
 "metadata": {
  "kernelspec": {
   "display_name": ".venv",
   "language": "python",
   "name": "python3"
  },
  "language_info": {
   "codemirror_mode": {
    "name": "ipython",
    "version": 3
   },
   "file_extension": ".py",
   "mimetype": "text/x-python",
   "name": "python",
   "nbconvert_exporter": "python",
   "pygments_lexer": "ipython3",
   "version": "3.10.9"
  }
 },
 "nbformat": 4,
 "nbformat_minor": 2
}
